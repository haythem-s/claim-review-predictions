{
 "cells": [
  {
   "cell_type": "markdown",
   "metadata": {
    "id": "btRXBvSwpztW"
   },
   "source": [
    "You are a data scientist in a health insurance company. In your firm, claims experts need to manually review claims. Every claim has some defining characteristics such as claims amount or treatment date (inputs.csv), as well as information on whether a claims expert was able to reject part of the claims amount (outcome.csv).\n",
    "\n",
    "Using the following synthetic data, it is your job to predict whether an incoming claim will have a rejection. In preparing your results, please explore the features and their relationship to the review result, preprocess your data to improve model performance, train a baseline model to predict whether a rejection will be found.\n",
    "\n",
    "Steps:\n",
    "\n",
    "- Define  the task\n",
    "- data exploration (defining if there's an outliers, missing values, duplicated rows, anomalies)\n",
    "- data cleaning (handling the duplication, missing values, outliers, anomalies)\n",
    "- EDA\n",
    "- feature engeneering preparation for modeling\n",
    "- Modeling\n",
    "- evaluation"
   ]
  },
  {
   "cell_type": "code",
   "execution_count": 1,
   "metadata": {
    "id": "9v55yd7alv72"
   },
   "outputs": [],
   "source": [
    "import pandas as pd\n",
    "import numpy as  np\n",
    "import matplotlib.pyplot as plt\n",
    "import seaborn as sns\n",
    "from sklearn.preprocessing import LabelEncoder\n",
    "from sklearn.model_selection import train_test_split\n",
    "from sklearn.linear_model import LogisticRegression\n",
    "from sklearn.ensemble import RandomForestClassifier\n",
    "from imblearn.over_sampling import RandomOverSampler\n",
    "from sklearn.metrics import classification_report"
   ]
  },
  {
   "cell_type": "markdown",
   "metadata": {
    "id": "oOq3MbZAqknC"
   },
   "source": [
    "#Data exploration"
   ]
  },
  {
   "cell_type": "code",
   "execution_count": 3,
   "metadata": {
    "colab": {
     "base_uri": "https://localhost:8080/",
     "height": 261
    },
    "id": "ztPwNLy8qnHQ",
    "outputId": "20263e0d-8ef7-4c8b-c7be-8084f545f2e9"
   },
   "outputs": [
    {
     "name": "stdout",
     "output_type": "stream",
     "text": [
      "**************************************************\n",
      "(500, 7)\n",
      "**************************************************\n"
     ]
    },
    {
     "data": {
      "text/html": [
       "<div>\n",
       "<style scoped>\n",
       "    .dataframe tbody tr th:only-of-type {\n",
       "        vertical-align: middle;\n",
       "    }\n",
       "\n",
       "    .dataframe tbody tr th {\n",
       "        vertical-align: top;\n",
       "    }\n",
       "\n",
       "    .dataframe thead th {\n",
       "        text-align: right;\n",
       "    }\n",
       "</style>\n",
       "<table border=\"1\" class=\"dataframe\">\n",
       "  <thead>\n",
       "    <tr style=\"text-align: right;\">\n",
       "      <th></th>\n",
       "      <th>ID</th>\n",
       "      <th>TREATMENT_DATE</th>\n",
       "      <th>RECEIVED_DATE</th>\n",
       "      <th>CLAIMS_TYPE</th>\n",
       "      <th>REVIEW_REASON</th>\n",
       "      <th>AGE</th>\n",
       "      <th>INVOICE_AMOUNT</th>\n",
       "    </tr>\n",
       "  </thead>\n",
       "  <tbody>\n",
       "    <tr>\n",
       "      <th>374</th>\n",
       "      <td>7706968038750334892</td>\n",
       "      <td>2017-02-04</td>\n",
       "      <td>2017-10-28</td>\n",
       "      <td>Doctor consultation</td>\n",
       "      <td>undisclosed diagnoses</td>\n",
       "      <td>64</td>\n",
       "      <td>233.58</td>\n",
       "    </tr>\n",
       "    <tr>\n",
       "      <th>124</th>\n",
       "      <td>468274447170260817</td>\n",
       "      <td>2017-02-21</td>\n",
       "      <td>2017-09-16</td>\n",
       "      <td>Doctor consultation</td>\n",
       "      <td>duplicate payment</td>\n",
       "      <td>69</td>\n",
       "      <td>169.87</td>\n",
       "    </tr>\n",
       "    <tr>\n",
       "      <th>241</th>\n",
       "      <td>6906552841215701476</td>\n",
       "      <td>2017-02-17</td>\n",
       "      <td>2017-05-30</td>\n",
       "      <td>Doctor consultation</td>\n",
       "      <td>referral documentation</td>\n",
       "      <td>52</td>\n",
       "      <td>331.16</td>\n",
       "    </tr>\n",
       "    <tr>\n",
       "      <th>198</th>\n",
       "      <td>8962099175855340883</td>\n",
       "      <td>2017-02-19</td>\n",
       "      <td>2017-05-10</td>\n",
       "      <td>Prescription</td>\n",
       "      <td>referral documentation</td>\n",
       "      <td>53</td>\n",
       "      <td>7.70</td>\n",
       "    </tr>\n",
       "    <tr>\n",
       "      <th>137</th>\n",
       "      <td>4152502964190596621</td>\n",
       "      <td>2017-10-17</td>\n",
       "      <td>2017-12-19</td>\n",
       "      <td>Prescription</td>\n",
       "      <td>issue from previous review</td>\n",
       "      <td>63</td>\n",
       "      <td>129.98</td>\n",
       "    </tr>\n",
       "  </tbody>\n",
       "</table>\n",
       "</div>"
      ],
      "text/plain": [
       "                      ID TREATMENT_DATE RECEIVED_DATE          CLAIMS_TYPE  \\\n",
       "374  7706968038750334892     2017-02-04    2017-10-28  Doctor consultation   \n",
       "124   468274447170260817     2017-02-21    2017-09-16  Doctor consultation   \n",
       "241  6906552841215701476     2017-02-17    2017-05-30  Doctor consultation   \n",
       "198  8962099175855340883     2017-02-19    2017-05-10         Prescription   \n",
       "137  4152502964190596621     2017-10-17    2017-12-19         Prescription   \n",
       "\n",
       "                  REVIEW_REASON  AGE  INVOICE_AMOUNT  \n",
       "374       undisclosed diagnoses   64          233.58  \n",
       "124           duplicate payment   69          169.87  \n",
       "241      referral documentation   52          331.16  \n",
       "198      referral documentation   53            7.70  \n",
       "137  issue from previous review   63          129.98  "
      ]
     },
     "execution_count": 3,
     "metadata": {},
     "output_type": "execute_result"
    }
   ],
   "source": [
    "income = pd.read_csv('in.csv')\n",
    "output = pd.read_csv('out.csv')\n",
    "print( '*'*50)\n",
    "print(income.shape)\n",
    "print( '*'*50)\n",
    "income.sample(5)"
   ]
  },
  {
   "cell_type": "code",
   "execution_count": 4,
   "metadata": {
    "colab": {
     "base_uri": "https://localhost:8080/",
     "height": 261
    },
    "id": "3FcFRtdqrARz",
    "outputId": "0b7a9c64-177c-4ca0-999c-b6dee8287f4c"
   },
   "outputs": [
    {
     "name": "stdout",
     "output_type": "stream",
     "text": [
      "**************************************************\n",
      "(501, 2)\n",
      "**************************************************\n"
     ]
    },
    {
     "data": {
      "text/html": [
       "<div>\n",
       "<style scoped>\n",
       "    .dataframe tbody tr th:only-of-type {\n",
       "        vertical-align: middle;\n",
       "    }\n",
       "\n",
       "    .dataframe tbody tr th {\n",
       "        vertical-align: top;\n",
       "    }\n",
       "\n",
       "    .dataframe thead th {\n",
       "        text-align: right;\n",
       "    }\n",
       "</style>\n",
       "<table border=\"1\" class=\"dataframe\">\n",
       "  <thead>\n",
       "    <tr style=\"text-align: right;\">\n",
       "      <th></th>\n",
       "      <th>ID</th>\n",
       "      <th>REVIEW_RESULTED_IN_REJECTION</th>\n",
       "    </tr>\n",
       "  </thead>\n",
       "  <tbody>\n",
       "    <tr>\n",
       "      <th>0</th>\n",
       "      <td>3453621322605639524</td>\n",
       "      <td>True</td>\n",
       "    </tr>\n",
       "    <tr>\n",
       "      <th>1</th>\n",
       "      <td>8128195827310128839</td>\n",
       "      <td>True</td>\n",
       "    </tr>\n",
       "    <tr>\n",
       "      <th>2</th>\n",
       "      <td>3450410363219081042</td>\n",
       "      <td>False</td>\n",
       "    </tr>\n",
       "    <tr>\n",
       "      <th>3</th>\n",
       "      <td>6058888927347395294</td>\n",
       "      <td>False</td>\n",
       "    </tr>\n",
       "    <tr>\n",
       "      <th>4</th>\n",
       "      <td>3669323013696141909</td>\n",
       "      <td>False</td>\n",
       "    </tr>\n",
       "  </tbody>\n",
       "</table>\n",
       "</div>"
      ],
      "text/plain": [
       "                    ID REVIEW_RESULTED_IN_REJECTION\n",
       "0  3453621322605639524                         True\n",
       "1  8128195827310128839                         True\n",
       "2  3450410363219081042                        False\n",
       "3  6058888927347395294                        False\n",
       "4  3669323013696141909                        False"
      ]
     },
     "execution_count": 4,
     "metadata": {},
     "output_type": "execute_result"
    }
   ],
   "source": [
    "print( '*'*50)\n",
    "print(output.shape)\n",
    "print( '*'*50)\n",
    "output.head()"
   ]
  },
  {
   "cell_type": "code",
   "execution_count": 5,
   "metadata": {
    "id": "DRtvsKvFrRKp"
   },
   "outputs": [],
   "source": [
    "data = income.merge(output)"
   ]
  },
  {
   "cell_type": "code",
   "execution_count": 6,
   "metadata": {
    "colab": {
     "base_uri": "https://localhost:8080/",
     "height": 206
    },
    "id": "MqGIAQyZrcaV",
    "outputId": "106e5346-d4b1-4264-d36b-d451410775cb"
   },
   "outputs": [
    {
     "data": {
      "text/html": [
       "<div>\n",
       "<style scoped>\n",
       "    .dataframe tbody tr th:only-of-type {\n",
       "        vertical-align: middle;\n",
       "    }\n",
       "\n",
       "    .dataframe tbody tr th {\n",
       "        vertical-align: top;\n",
       "    }\n",
       "\n",
       "    .dataframe thead th {\n",
       "        text-align: right;\n",
       "    }\n",
       "</style>\n",
       "<table border=\"1\" class=\"dataframe\">\n",
       "  <thead>\n",
       "    <tr style=\"text-align: right;\">\n",
       "      <th></th>\n",
       "      <th>ID</th>\n",
       "      <th>TREATMENT_DATE</th>\n",
       "      <th>RECEIVED_DATE</th>\n",
       "      <th>CLAIMS_TYPE</th>\n",
       "      <th>REVIEW_REASON</th>\n",
       "      <th>AGE</th>\n",
       "      <th>INVOICE_AMOUNT</th>\n",
       "      <th>REVIEW_RESULTED_IN_REJECTION</th>\n",
       "    </tr>\n",
       "  </thead>\n",
       "  <tbody>\n",
       "    <tr>\n",
       "      <th>0</th>\n",
       "      <td>3453621322605639524</td>\n",
       "      <td>2017-02-28</td>\n",
       "      <td>2017-03-11</td>\n",
       "      <td>Doctor consultation</td>\n",
       "      <td>issue from previous review</td>\n",
       "      <td>58</td>\n",
       "      <td>182.23</td>\n",
       "      <td>True</td>\n",
       "    </tr>\n",
       "    <tr>\n",
       "      <th>1</th>\n",
       "      <td>8128195827310128839</td>\n",
       "      <td>2017-05-11</td>\n",
       "      <td>2017-11-22</td>\n",
       "      <td>Prescription</td>\n",
       "      <td>duplicate payment</td>\n",
       "      <td>62</td>\n",
       "      <td>4133.05</td>\n",
       "      <td>True</td>\n",
       "    </tr>\n",
       "    <tr>\n",
       "      <th>2</th>\n",
       "      <td>3450410363219081042</td>\n",
       "      <td>2017-10-10</td>\n",
       "      <td>2017-11-03</td>\n",
       "      <td>Prescription</td>\n",
       "      <td>issue from previous review</td>\n",
       "      <td>66</td>\n",
       "      <td>36.76</td>\n",
       "      <td>False</td>\n",
       "    </tr>\n",
       "    <tr>\n",
       "      <th>3</th>\n",
       "      <td>6058888927347395294</td>\n",
       "      <td>2017-12-05</td>\n",
       "      <td>2018-01-06</td>\n",
       "      <td>Prescription</td>\n",
       "      <td>issue from previous review</td>\n",
       "      <td>76</td>\n",
       "      <td>52.72</td>\n",
       "      <td>False</td>\n",
       "    </tr>\n",
       "    <tr>\n",
       "      <th>4</th>\n",
       "      <td>3669323013696141909</td>\n",
       "      <td>2017-03-24</td>\n",
       "      <td>2017-04-29</td>\n",
       "      <td>Prescription</td>\n",
       "      <td>issue from previous review</td>\n",
       "      <td>64</td>\n",
       "      <td>119.80</td>\n",
       "      <td>False</td>\n",
       "    </tr>\n",
       "  </tbody>\n",
       "</table>\n",
       "</div>"
      ],
      "text/plain": [
       "                    ID TREATMENT_DATE RECEIVED_DATE          CLAIMS_TYPE  \\\n",
       "0  3453621322605639524     2017-02-28    2017-03-11  Doctor consultation   \n",
       "1  8128195827310128839     2017-05-11    2017-11-22         Prescription   \n",
       "2  3450410363219081042     2017-10-10    2017-11-03         Prescription   \n",
       "3  6058888927347395294     2017-12-05    2018-01-06         Prescription   \n",
       "4  3669323013696141909     2017-03-24    2017-04-29         Prescription   \n",
       "\n",
       "                REVIEW_REASON  AGE  INVOICE_AMOUNT  \\\n",
       "0  issue from previous review   58          182.23   \n",
       "1           duplicate payment   62         4133.05   \n",
       "2  issue from previous review   66           36.76   \n",
       "3  issue from previous review   76           52.72   \n",
       "4  issue from previous review   64          119.80   \n",
       "\n",
       "  REVIEW_RESULTED_IN_REJECTION  \n",
       "0                         True  \n",
       "1                         True  \n",
       "2                        False  \n",
       "3                        False  \n",
       "4                        False  "
      ]
     },
     "execution_count": 6,
     "metadata": {},
     "output_type": "execute_result"
    }
   ],
   "source": [
    "data.head()"
   ]
  },
  {
   "cell_type": "code",
   "execution_count": 7,
   "metadata": {
    "colab": {
     "base_uri": "https://localhost:8080/"
    },
    "id": "sVIQMJUwrgBy",
    "outputId": "a39b6922-e410-4c9f-8364-2ee4e69dbbfb"
   },
   "outputs": [
    {
     "name": "stdout",
     "output_type": "stream",
     "text": [
      "<class 'pandas.core.frame.DataFrame'>\n",
      "Int64Index: 501 entries, 0 to 500\n",
      "Data columns (total 8 columns):\n",
      " #   Column                        Non-Null Count  Dtype  \n",
      "---  ------                        --------------  -----  \n",
      " 0   ID                            501 non-null    int64  \n",
      " 1   TREATMENT_DATE                501 non-null    object \n",
      " 2   RECEIVED_DATE                 501 non-null    object \n",
      " 3   CLAIMS_TYPE                   501 non-null    object \n",
      " 4   REVIEW_REASON                 501 non-null    object \n",
      " 5   AGE                           501 non-null    int64  \n",
      " 6   INVOICE_AMOUNT                501 non-null    float64\n",
      " 7   REVIEW_RESULTED_IN_REJECTION  500 non-null    object \n",
      "dtypes: float64(1), int64(2), object(5)\n",
      "memory usage: 35.2+ KB\n"
     ]
    }
   ],
   "source": [
    "data.info()"
   ]
  },
  {
   "cell_type": "code",
   "execution_count": 8,
   "metadata": {
    "colab": {
     "base_uri": "https://localhost:8080/",
     "height": 300
    },
    "id": "moOPTIF8rlh_",
    "outputId": "ce4ea5a6-fbcc-4cef-d68e-25523177f8a7"
   },
   "outputs": [
    {
     "data": {
      "text/html": [
       "<div>\n",
       "<style scoped>\n",
       "    .dataframe tbody tr th:only-of-type {\n",
       "        vertical-align: middle;\n",
       "    }\n",
       "\n",
       "    .dataframe tbody tr th {\n",
       "        vertical-align: top;\n",
       "    }\n",
       "\n",
       "    .dataframe thead th {\n",
       "        text-align: right;\n",
       "    }\n",
       "</style>\n",
       "<table border=\"1\" class=\"dataframe\">\n",
       "  <thead>\n",
       "    <tr style=\"text-align: right;\">\n",
       "      <th></th>\n",
       "      <th>ID</th>\n",
       "      <th>AGE</th>\n",
       "      <th>INVOICE_AMOUNT</th>\n",
       "    </tr>\n",
       "  </thead>\n",
       "  <tbody>\n",
       "    <tr>\n",
       "      <th>count</th>\n",
       "      <td>5.010000e+02</td>\n",
       "      <td>501.000000</td>\n",
       "      <td>501.000000</td>\n",
       "    </tr>\n",
       "    <tr>\n",
       "      <th>mean</th>\n",
       "      <td>4.553911e+18</td>\n",
       "      <td>66.984032</td>\n",
       "      <td>347.590140</td>\n",
       "    </tr>\n",
       "    <tr>\n",
       "      <th>std</th>\n",
       "      <td>2.582491e+18</td>\n",
       "      <td>12.224719</td>\n",
       "      <td>904.939599</td>\n",
       "    </tr>\n",
       "    <tr>\n",
       "      <th>min</th>\n",
       "      <td>1.422575e+16</td>\n",
       "      <td>9.000000</td>\n",
       "      <td>0.000000</td>\n",
       "    </tr>\n",
       "    <tr>\n",
       "      <th>25%</th>\n",
       "      <td>2.427042e+18</td>\n",
       "      <td>62.000000</td>\n",
       "      <td>34.100000</td>\n",
       "    </tr>\n",
       "    <tr>\n",
       "      <th>50%</th>\n",
       "      <td>4.427805e+18</td>\n",
       "      <td>68.000000</td>\n",
       "      <td>112.240000</td>\n",
       "    </tr>\n",
       "    <tr>\n",
       "      <th>75%</th>\n",
       "      <td>6.680978e+18</td>\n",
       "      <td>75.000000</td>\n",
       "      <td>293.180000</td>\n",
       "    </tr>\n",
       "    <tr>\n",
       "      <th>max</th>\n",
       "      <td>9.195218e+18</td>\n",
       "      <td>192.000000</td>\n",
       "      <td>12491.890000</td>\n",
       "    </tr>\n",
       "  </tbody>\n",
       "</table>\n",
       "</div>"
      ],
      "text/plain": [
       "                 ID         AGE  INVOICE_AMOUNT\n",
       "count  5.010000e+02  501.000000      501.000000\n",
       "mean   4.553911e+18   66.984032      347.590140\n",
       "std    2.582491e+18   12.224719      904.939599\n",
       "min    1.422575e+16    9.000000        0.000000\n",
       "25%    2.427042e+18   62.000000       34.100000\n",
       "50%    4.427805e+18   68.000000      112.240000\n",
       "75%    6.680978e+18   75.000000      293.180000\n",
       "max    9.195218e+18  192.000000    12491.890000"
      ]
     },
     "execution_count": 8,
     "metadata": {},
     "output_type": "execute_result"
    }
   ],
   "source": [
    "data.describe()"
   ]
  },
  {
   "cell_type": "code",
   "execution_count": 9,
   "metadata": {
    "colab": {
     "base_uri": "https://localhost:8080/"
    },
    "id": "QIW4DUAIsB4x",
    "outputId": "0faa7d50-6e3f-418f-a8d8-0d25c5314916"
   },
   "outputs": [
    {
     "data": {
      "text/plain": [
       "1"
      ]
     },
     "execution_count": 9,
     "metadata": {},
     "output_type": "execute_result"
    }
   ],
   "source": [
    "data['ID'].duplicated().sum()"
   ]
  },
  {
   "cell_type": "code",
   "execution_count": 10,
   "metadata": {
    "colab": {
     "base_uri": "https://localhost:8080/",
     "height": 81
    },
    "id": "lqX3d94ysI43",
    "outputId": "9f7d09e1-e558-48b0-9d15-d3e1d43e1036"
   },
   "outputs": [
    {
     "data": {
      "text/html": [
       "<div>\n",
       "<style scoped>\n",
       "    .dataframe tbody tr th:only-of-type {\n",
       "        vertical-align: middle;\n",
       "    }\n",
       "\n",
       "    .dataframe tbody tr th {\n",
       "        vertical-align: top;\n",
       "    }\n",
       "\n",
       "    .dataframe thead th {\n",
       "        text-align: right;\n",
       "    }\n",
       "</style>\n",
       "<table border=\"1\" class=\"dataframe\">\n",
       "  <thead>\n",
       "    <tr style=\"text-align: right;\">\n",
       "      <th></th>\n",
       "      <th>ID</th>\n",
       "      <th>TREATMENT_DATE</th>\n",
       "      <th>RECEIVED_DATE</th>\n",
       "      <th>CLAIMS_TYPE</th>\n",
       "      <th>REVIEW_REASON</th>\n",
       "      <th>AGE</th>\n",
       "      <th>INVOICE_AMOUNT</th>\n",
       "      <th>REVIEW_RESULTED_IN_REJECTION</th>\n",
       "    </tr>\n",
       "  </thead>\n",
       "  <tbody>\n",
       "    <tr>\n",
       "      <th>132</th>\n",
       "      <td>720632817420246612</td>\n",
       "      <td>2017-01-11</td>\n",
       "      <td>2017-04-20</td>\n",
       "      <td>Doctor consultation</td>\n",
       "      <td>issue from previous review</td>\n",
       "      <td>42</td>\n",
       "      <td>203.01</td>\n",
       "      <td>NaN</td>\n",
       "    </tr>\n",
       "  </tbody>\n",
       "</table>\n",
       "</div>"
      ],
      "text/plain": [
       "                     ID TREATMENT_DATE RECEIVED_DATE          CLAIMS_TYPE  \\\n",
       "132  720632817420246612     2017-01-11    2017-04-20  Doctor consultation   \n",
       "\n",
       "                  REVIEW_REASON  AGE  INVOICE_AMOUNT  \\\n",
       "132  issue from previous review   42          203.01   \n",
       "\n",
       "    REVIEW_RESULTED_IN_REJECTION  \n",
       "132                          NaN  "
      ]
     },
     "execution_count": 10,
     "metadata": {},
     "output_type": "execute_result"
    }
   ],
   "source": [
    "data[data['ID'].duplicated()]"
   ]
  },
  {
   "cell_type": "code",
   "execution_count": 11,
   "metadata": {
    "colab": {
     "base_uri": "https://localhost:8080/",
     "height": 112
    },
    "id": "KT88Honlsqph",
    "outputId": "99876ed3-e5a3-4d32-b173-e11e87d08329"
   },
   "outputs": [
    {
     "data": {
      "text/html": [
       "<div>\n",
       "<style scoped>\n",
       "    .dataframe tbody tr th:only-of-type {\n",
       "        vertical-align: middle;\n",
       "    }\n",
       "\n",
       "    .dataframe tbody tr th {\n",
       "        vertical-align: top;\n",
       "    }\n",
       "\n",
       "    .dataframe thead th {\n",
       "        text-align: right;\n",
       "    }\n",
       "</style>\n",
       "<table border=\"1\" class=\"dataframe\">\n",
       "  <thead>\n",
       "    <tr style=\"text-align: right;\">\n",
       "      <th></th>\n",
       "      <th>ID</th>\n",
       "      <th>TREATMENT_DATE</th>\n",
       "      <th>RECEIVED_DATE</th>\n",
       "      <th>CLAIMS_TYPE</th>\n",
       "      <th>REVIEW_REASON</th>\n",
       "      <th>AGE</th>\n",
       "      <th>INVOICE_AMOUNT</th>\n",
       "      <th>REVIEW_RESULTED_IN_REJECTION</th>\n",
       "    </tr>\n",
       "  </thead>\n",
       "  <tbody>\n",
       "    <tr>\n",
       "      <th>131</th>\n",
       "      <td>720632817420246612</td>\n",
       "      <td>2017-01-11</td>\n",
       "      <td>2017-04-20</td>\n",
       "      <td>Doctor consultation</td>\n",
       "      <td>issue from previous review</td>\n",
       "      <td>42</td>\n",
       "      <td>203.01</td>\n",
       "      <td>False</td>\n",
       "    </tr>\n",
       "    <tr>\n",
       "      <th>132</th>\n",
       "      <td>720632817420246612</td>\n",
       "      <td>2017-01-11</td>\n",
       "      <td>2017-04-20</td>\n",
       "      <td>Doctor consultation</td>\n",
       "      <td>issue from previous review</td>\n",
       "      <td>42</td>\n",
       "      <td>203.01</td>\n",
       "      <td>NaN</td>\n",
       "    </tr>\n",
       "  </tbody>\n",
       "</table>\n",
       "</div>"
      ],
      "text/plain": [
       "                     ID TREATMENT_DATE RECEIVED_DATE          CLAIMS_TYPE  \\\n",
       "131  720632817420246612     2017-01-11    2017-04-20  Doctor consultation   \n",
       "132  720632817420246612     2017-01-11    2017-04-20  Doctor consultation   \n",
       "\n",
       "                  REVIEW_REASON  AGE  INVOICE_AMOUNT  \\\n",
       "131  issue from previous review   42          203.01   \n",
       "132  issue from previous review   42          203.01   \n",
       "\n",
       "    REVIEW_RESULTED_IN_REJECTION  \n",
       "131                        False  \n",
       "132                          NaN  "
      ]
     },
     "execution_count": 11,
     "metadata": {},
     "output_type": "execute_result"
    }
   ],
   "source": [
    "data[data['ID']==720632817420246612]"
   ]
  },
  {
   "cell_type": "code",
   "execution_count": 12,
   "metadata": {
    "colab": {
     "base_uri": "https://localhost:8080/"
    },
    "id": "tPZu4p4tseU3",
    "outputId": "45b890a0-cebf-4bfe-b194-c4321d78334b"
   },
   "outputs": [
    {
     "data": {
      "text/plain": [
       "ID                              0\n",
       "TREATMENT_DATE                  0\n",
       "RECEIVED_DATE                   0\n",
       "CLAIMS_TYPE                     0\n",
       "REVIEW_REASON                   0\n",
       "AGE                             0\n",
       "INVOICE_AMOUNT                  0\n",
       "REVIEW_RESULTED_IN_REJECTION    1\n",
       "dtype: int64"
      ]
     },
     "execution_count": 12,
     "metadata": {},
     "output_type": "execute_result"
    }
   ],
   "source": [
    "data.isnull().sum()"
   ]
  },
  {
   "cell_type": "code",
   "execution_count": 13,
   "metadata": {
    "colab": {
     "base_uri": "https://localhost:8080/",
     "height": 312
    },
    "id": "S2tu6GkwrwQ-",
    "outputId": "34427102-713a-423a-90fd-7ccda928a2a4"
   },
   "outputs": [
    {
     "data": {
      "text/plain": [
       "ID                   AxesSubplot(0.125,0.798085;0.227941x0.0819149)\n",
       "AGE               AxesSubplot(0.398529,0.798085;0.227941x0.0819149)\n",
       "INVOICE_AMOUNT    AxesSubplot(0.672059,0.798085;0.227941x0.0819149)\n",
       "dtype: object"
      ]
     },
     "execution_count": 13,
     "metadata": {},
     "output_type": "execute_result"
    },
    {
     "data": {
      "image/png": "[encoded data removed]",
      "text/plain": [
       "<Figure size 2000x2000 with 24 Axes>"
      ]
     },
     "metadata": {},
     "output_type": "display_data"
    }
   ],
   "source": [
    "data.plot(kind='box', subplots = True, layout= (8,3), figsize = (20,20))"
   ]
  },
  {
   "cell_type": "code",
   "execution_count": 14,
   "metadata": {
    "colab": {
     "base_uri": "https://localhost:8080/"
    },
    "id": "8KAIUcAYs1_q",
    "outputId": "d4c4ff07-ab07-496b-aad6-d5bdce605f1b"
   },
   "outputs": [
    {
     "name": "stdout",
     "output_type": "stream",
     "text": [
      "\n",
      " 2017-07-27    6\n",
      "2017-02-21    6\n",
      "2017-02-17    5\n",
      "2017-05-19    5\n",
      "2017-10-18    5\n",
      "             ..\n",
      "2017-06-26    1\n",
      "2017-08-10    1\n",
      "2017-05-04    1\n",
      "2017-06-24    1\n",
      "2017-01-21    1\n",
      "Name: TREATMENT_DATE, Length: 237, dtype: int64\n",
      "\n",
      " 2018-02-24    7\n",
      "2017-10-10    6\n",
      "2017-11-09    6\n",
      "2017-06-29    5\n",
      "2017-12-06    5\n",
      "             ..\n",
      "2017-09-23    1\n",
      "2017-06-09    1\n",
      "2018-04-12    1\n",
      "2017-10-17    1\n",
      "2017-12-04    1\n",
      "Name: RECEIVED_DATE, Length: 259, dtype: int64\n",
      "\n",
      " Prescription            273\n",
      "Doctor consultation     176\n",
      "Medical aids             50\n",
      "Alternative medicine      1\n",
      " doctor consultation      1\n",
      "Name: CLAIMS_TYPE, dtype: int64\n",
      "\n",
      " issue from previous review    275\n",
      "referral documentation        110\n",
      "duplicate payment             103\n",
      "undisclosed diagnoses          13\n",
      "Name: REVIEW_REASON, dtype: int64\n",
      "\n",
      " False    396\n",
      "True     104\n",
      "Name: REVIEW_RESULTED_IN_REJECTION, dtype: int64\n"
     ]
    }
   ],
   "source": [
    "categ = data.select_dtypes(include = 'object')\n",
    "for column in categ.columns:\n",
    "  print('\\n', categ[column].value_counts())"
   ]
  },
  {
   "cell_type": "markdown",
   "metadata": {
    "id": "bTkYOIWutnht"
   },
   "source": [
    "#Data preprocessing"
   ]
  },
  {
   "cell_type": "code",
   "execution_count": 15,
   "metadata": {
    "id": "7G8WmFVmtDWU"
   },
   "outputs": [],
   "source": [
    "data.dropna(inplace= True)"
   ]
  },
  {
   "cell_type": "code",
   "execution_count": 16,
   "metadata": {
    "id": "-pAzFEtct0Ul"
   },
   "outputs": [],
   "source": [
    "data.loc[data['AGE']==data['AGE'].max(), 'AGE']= data['AGE'].mean()\n",
    "data.loc[data['INVOICE_AMOUNT'] == data['INVOICE_AMOUNT'].max(), 'INVOICE_AMOUNT'] = data['INVOICE_AMOUNT'].mean()"
   ]
  },
  {
   "cell_type": "code",
   "execution_count": 17,
   "metadata": {
    "colab": {
     "base_uri": "https://localhost:8080/"
    },
    "id": "P1JQbfyHufLI",
    "outputId": "b668921c-bde8-4188-80ed-338ebab1b781"
   },
   "outputs": [
    {
     "data": {
      "text/plain": [
       "Prescription            273\n",
       "Doctor consultation     175\n",
       "Medical aids             50\n",
       "Alternative medicine      1\n",
       " doctor consultation      1\n",
       "Name: CLAIMS_TYPE, dtype: int64"
      ]
     },
     "execution_count": 17,
     "metadata": {},
     "output_type": "execute_result"
    }
   ],
   "source": [
    "data['CLAIMS_TYPE'].value_counts()"
   ]
  },
  {
   "cell_type": "code",
   "execution_count": 18,
   "metadata": {
    "id": "yolhDAIRuvgS"
   },
   "outputs": [],
   "source": [
    "data['CLAIMS_TYPE'] = data['CLAIMS_TYPE'].apply(lambda x: x.strip().capitalize())"
   ]
  },
  {
   "cell_type": "code",
   "execution_count": 19,
   "metadata": {
    "id": "r76EohLHvpaQ"
   },
   "outputs": [],
   "source": [
    "data['TREATMENT_DATE']= pd.to_datetime(data['TREATMENT_DATE'])\n",
    "data['RECEIVED_DATE']= pd.to_datetime(data['RECEIVED_DATE'])"
   ]
  },
  {
   "cell_type": "markdown",
   "metadata": {
    "id": "xXMjSho8wnCY"
   },
   "source": [
    "#EDA"
   ]
  },
  {
   "cell_type": "code",
   "execution_count": 20,
   "metadata": {
    "id": "ZJzE008DGAr3"
   },
   "outputs": [],
   "source": [
    "data['date_difference'] = (data['RECEIVED_DATE'] - data['TREATMENT_DATE']).dt.days"
   ]
  },
  {
   "cell_type": "code",
   "execution_count": 21,
   "metadata": {
    "colab": {
     "base_uri": "https://localhost:8080/",
     "height": 478
    },
    "id": "DTMmMgrMFxIw",
    "outputId": "482155a4-1c52-4fdf-c68a-6d41c61b0379"
   },
   "outputs": [
    {
     "data": {
      "text/html": [
       "<div>\n",
       "<style scoped>\n",
       "    .dataframe tbody tr th:only-of-type {\n",
       "        vertical-align: middle;\n",
       "    }\n",
       "\n",
       "    .dataframe tbody tr th {\n",
       "        vertical-align: top;\n",
       "    }\n",
       "\n",
       "    .dataframe thead th {\n",
       "        text-align: right;\n",
       "    }\n",
       "</style>\n",
       "<table border=\"1\" class=\"dataframe\">\n",
       "  <thead>\n",
       "    <tr style=\"text-align: right;\">\n",
       "      <th></th>\n",
       "      <th>ID</th>\n",
       "      <th>TREATMENT_DATE</th>\n",
       "      <th>RECEIVED_DATE</th>\n",
       "      <th>CLAIMS_TYPE</th>\n",
       "      <th>REVIEW_REASON</th>\n",
       "      <th>AGE</th>\n",
       "      <th>INVOICE_AMOUNT</th>\n",
       "      <th>REVIEW_RESULTED_IN_REJECTION</th>\n",
       "      <th>date_difference</th>\n",
       "    </tr>\n",
       "  </thead>\n",
       "  <tbody>\n",
       "    <tr>\n",
       "      <th>0</th>\n",
       "      <td>3453621322605639524</td>\n",
       "      <td>2017-02-28</td>\n",
       "      <td>2017-03-11</td>\n",
       "      <td>Doctor consultation</td>\n",
       "      <td>issue from previous review</td>\n",
       "      <td>58.0</td>\n",
       "      <td>182.23</td>\n",
       "      <td>True</td>\n",
       "      <td>11</td>\n",
       "    </tr>\n",
       "    <tr>\n",
       "      <th>1</th>\n",
       "      <td>8128195827310128839</td>\n",
       "      <td>2017-05-11</td>\n",
       "      <td>2017-11-22</td>\n",
       "      <td>Prescription</td>\n",
       "      <td>duplicate payment</td>\n",
       "      <td>62.0</td>\n",
       "      <td>4133.05</td>\n",
       "      <td>True</td>\n",
       "      <td>195</td>\n",
       "    </tr>\n",
       "    <tr>\n",
       "      <th>2</th>\n",
       "      <td>3450410363219081042</td>\n",
       "      <td>2017-10-10</td>\n",
       "      <td>2017-11-03</td>\n",
       "      <td>Prescription</td>\n",
       "      <td>issue from previous review</td>\n",
       "      <td>66.0</td>\n",
       "      <td>36.76</td>\n",
       "      <td>False</td>\n",
       "      <td>24</td>\n",
       "    </tr>\n",
       "    <tr>\n",
       "      <th>3</th>\n",
       "      <td>6058888927347395294</td>\n",
       "      <td>2017-12-05</td>\n",
       "      <td>2018-01-06</td>\n",
       "      <td>Prescription</td>\n",
       "      <td>issue from previous review</td>\n",
       "      <td>76.0</td>\n",
       "      <td>52.72</td>\n",
       "      <td>False</td>\n",
       "      <td>32</td>\n",
       "    </tr>\n",
       "    <tr>\n",
       "      <th>4</th>\n",
       "      <td>3669323013696141909</td>\n",
       "      <td>2017-03-24</td>\n",
       "      <td>2017-04-29</td>\n",
       "      <td>Prescription</td>\n",
       "      <td>issue from previous review</td>\n",
       "      <td>64.0</td>\n",
       "      <td>119.80</td>\n",
       "      <td>False</td>\n",
       "      <td>36</td>\n",
       "    </tr>\n",
       "    <tr>\n",
       "      <th>...</th>\n",
       "      <td>...</td>\n",
       "      <td>...</td>\n",
       "      <td>...</td>\n",
       "      <td>...</td>\n",
       "      <td>...</td>\n",
       "      <td>...</td>\n",
       "      <td>...</td>\n",
       "      <td>...</td>\n",
       "      <td>...</td>\n",
       "    </tr>\n",
       "    <tr>\n",
       "      <th>496</th>\n",
       "      <td>2753462497391643138</td>\n",
       "      <td>2017-03-04</td>\n",
       "      <td>2017-05-09</td>\n",
       "      <td>Doctor consultation</td>\n",
       "      <td>issue from previous review</td>\n",
       "      <td>79.0</td>\n",
       "      <td>592.20</td>\n",
       "      <td>False</td>\n",
       "      <td>66</td>\n",
       "    </tr>\n",
       "    <tr>\n",
       "      <th>497</th>\n",
       "      <td>1624497976737168861</td>\n",
       "      <td>2017-09-15</td>\n",
       "      <td>2017-10-07</td>\n",
       "      <td>Prescription</td>\n",
       "      <td>issue from previous review</td>\n",
       "      <td>71.0</td>\n",
       "      <td>30.28</td>\n",
       "      <td>False</td>\n",
       "      <td>22</td>\n",
       "    </tr>\n",
       "    <tr>\n",
       "      <th>498</th>\n",
       "      <td>5329544669103473941</td>\n",
       "      <td>2017-01-21</td>\n",
       "      <td>2017-01-24</td>\n",
       "      <td>Prescription</td>\n",
       "      <td>duplicate payment</td>\n",
       "      <td>63.0</td>\n",
       "      <td>43.70</td>\n",
       "      <td>False</td>\n",
       "      <td>3</td>\n",
       "    </tr>\n",
       "    <tr>\n",
       "      <th>499</th>\n",
       "      <td>7289136152180522355</td>\n",
       "      <td>2017-11-07</td>\n",
       "      <td>2017-12-04</td>\n",
       "      <td>Doctor consultation</td>\n",
       "      <td>referral documentation</td>\n",
       "      <td>63.0</td>\n",
       "      <td>195.79</td>\n",
       "      <td>False</td>\n",
       "      <td>27</td>\n",
       "    </tr>\n",
       "    <tr>\n",
       "      <th>500</th>\n",
       "      <td>2595491721114336848</td>\n",
       "      <td>2017-01-27</td>\n",
       "      <td>2017-02-01</td>\n",
       "      <td>Prescription</td>\n",
       "      <td>referral documentation</td>\n",
       "      <td>80.0</td>\n",
       "      <td>228.14</td>\n",
       "      <td>True</td>\n",
       "      <td>5</td>\n",
       "    </tr>\n",
       "  </tbody>\n",
       "</table>\n",
       "<p>500 rows × 9 columns</p>\n",
       "</div>"
      ],
      "text/plain": [
       "                      ID TREATMENT_DATE RECEIVED_DATE          CLAIMS_TYPE  \\\n",
       "0    3453621322605639524     2017-02-28    2017-03-11  Doctor consultation   \n",
       "1    8128195827310128839     2017-05-11    2017-11-22         Prescription   \n",
       "2    3450410363219081042     2017-10-10    2017-11-03         Prescription   \n",
       "3    6058888927347395294     2017-12-05    2018-01-06         Prescription   \n",
       "4    3669323013696141909     2017-03-24    2017-04-29         Prescription   \n",
       "..                   ...            ...           ...                  ...   \n",
       "496  2753462497391643138     2017-03-04    2017-05-09  Doctor consultation   \n",
       "497  1624497976737168861     2017-09-15    2017-10-07         Prescription   \n",
       "498  5329544669103473941     2017-01-21    2017-01-24         Prescription   \n",
       "499  7289136152180522355     2017-11-07    2017-12-04  Doctor consultation   \n",
       "500  2595491721114336848     2017-01-27    2017-02-01         Prescription   \n",
       "\n",
       "                  REVIEW_REASON   AGE  INVOICE_AMOUNT  \\\n",
       "0    issue from previous review  58.0          182.23   \n",
       "1             duplicate payment  62.0         4133.05   \n",
       "2    issue from previous review  66.0           36.76   \n",
       "3    issue from previous review  76.0           52.72   \n",
       "4    issue from previous review  64.0          119.80   \n",
       "..                          ...   ...             ...   \n",
       "496  issue from previous review  79.0          592.20   \n",
       "497  issue from previous review  71.0           30.28   \n",
       "498           duplicate payment  63.0           43.70   \n",
       "499      referral documentation  63.0          195.79   \n",
       "500      referral documentation  80.0          228.14   \n",
       "\n",
       "    REVIEW_RESULTED_IN_REJECTION  date_difference  \n",
       "0                           True               11  \n",
       "1                           True              195  \n",
       "2                          False               24  \n",
       "3                          False               32  \n",
       "4                          False               36  \n",
       "..                           ...              ...  \n",
       "496                        False               66  \n",
       "497                        False               22  \n",
       "498                        False                3  \n",
       "499                        False               27  \n",
       "500                         True                5  \n",
       "\n",
       "[500 rows x 9 columns]"
      ]
     },
     "execution_count": 21,
     "metadata": {},
     "output_type": "execute_result"
    }
   ],
   "source": [
    "data"
   ]
  },
  {
   "cell_type": "code",
   "execution_count": 22,
   "metadata": {
    "colab": {
     "base_uri": "https://localhost:8080/",
     "height": 468
    },
    "id": "7jx9O_93J-oL",
    "outputId": "5cd7e179-daef-450f-a1bf-2ccac5144633"
   },
   "outputs": [
    {
     "data": {
      "text/plain": [
       "<AxesSubplot: xlabel='date_difference'>"
      ]
     },
     "execution_count": 22,
     "metadata": {},
     "output_type": "execute_result"
    },
    {
     "data": {
      "image/png": "[encoded data removed]",
      "text/plain": [
       "<Figure size 640x480 with 1 Axes>"
      ]
     },
     "metadata": {},
     "output_type": "display_data"
    }
   ],
   "source": [
    "sns.boxplot(data = data, x= 'date_difference')"
   ]
  },
  {
   "cell_type": "code",
   "execution_count": 23,
   "metadata": {
    "colab": {
     "base_uri": "https://localhost:8080/"
    },
    "id": "88zptf_yKQ4u",
    "outputId": "03db4a6e-27b4-40e3-8652-26654f71b802"
   },
   "outputs": [
    {
     "data": {
      "text/plain": [
       "Timestamp('1796-01-12 00:00:00')"
      ]
     },
     "execution_count": 23,
     "metadata": {},
     "output_type": "execute_result"
    }
   ],
   "source": [
    "data['TREATMENT_DATE'].min()"
   ]
  },
  {
   "cell_type": "code",
   "execution_count": 24,
   "metadata": {
    "id": "rl7bMwr5KkkM"
   },
   "outputs": [],
   "source": [
    "data['TREATMENT_DATE'].replace( {data['TREATMENT_DATE'].min(): '2017-01-12 00:00:00'}, inplace= True)"
   ]
  },
  {
   "cell_type": "code",
   "execution_count": 25,
   "metadata": {
    "id": "Z5ioO4s1w8gI"
   },
   "outputs": [],
   "source": [
    "data['TREATMENT_year']= data['TREATMENT_DATE'].dt.year\n",
    "data['RECEIVED_year']= data['RECEIVED_DATE'].dt.year\n",
    "data['TREATMENT_month']= data['TREATMENT_DATE'].dt.month\n",
    "data['RECEIVED_month']= data['RECEIVED_DATE'].dt.month"
   ]
  },
  {
   "cell_type": "code",
   "execution_count": 26,
   "metadata": {
    "colab": {
     "base_uri": "https://localhost:8080/"
    },
    "id": "NRmr7zkxxoEy",
    "outputId": "896142cd-1c7f-4b0a-be1e-7785b5c1da6c"
   },
   "outputs": [
    {
     "data": {
      "text/plain": [
       "2017    500\n",
       "Name: TREATMENT_year, dtype: int64"
      ]
     },
     "execution_count": 26,
     "metadata": {},
     "output_type": "execute_result"
    }
   ],
   "source": [
    "date = [['TREATMENT_year', 'RECEIVED_year', 'TREATMENT_month', 'RECEIVED_month']]\n",
    "data['TREATMENT_year'].value_counts()"
   ]
  },
  {
   "cell_type": "code",
   "execution_count": 27,
   "metadata": {
    "colab": {
     "base_uri": "https://localhost:8080/"
    },
    "id": "x-58ZUWjyb-Z",
    "outputId": "eca8e350-0416-4ebd-80e5-7221f2196d90"
   },
   "outputs": [
    {
     "data": {
      "text/plain": [
       "2017    410\n",
       "2018     90\n",
       "Name: RECEIVED_year, dtype: int64"
      ]
     },
     "execution_count": 27,
     "metadata": {},
     "output_type": "execute_result"
    }
   ],
   "source": [
    "data['RECEIVED_year'].value_counts()"
   ]
  },
  {
   "cell_type": "code",
   "execution_count": 28,
   "metadata": {
    "colab": {
     "base_uri": "https://localhost:8080/"
    },
    "id": "UWVioQZmyiwX",
    "outputId": "fd9b68a9-9df5-4459-dc4a-ead420c9829b"
   },
   "outputs": [
    {
     "data": {
      "text/plain": [
       "3     57\n",
       "2     55\n",
       "9     46\n",
       "7     43\n",
       "11    43\n",
       "6     40\n",
       "5     39\n",
       "1     39\n",
       "12    38\n",
       "8     36\n",
       "4     35\n",
       "10    29\n",
       "Name: TREATMENT_month, dtype: int64"
      ]
     },
     "execution_count": 28,
     "metadata": {},
     "output_type": "execute_result"
    }
   ],
   "source": [
    "data['TREATMENT_month'].value_counts()"
   ]
  },
  {
   "cell_type": "code",
   "execution_count": 29,
   "metadata": {
    "colab": {
     "base_uri": "https://localhost:8080/"
    },
    "id": "qX-Atnhpyk5q",
    "outputId": "6fe9d835-f499-4eac-efaa-f0ecbdadcea0"
   },
   "outputs": [
    {
     "data": {
      "text/plain": [
       "3     51\n",
       "10    46\n",
       "12    46\n",
       "1     45\n",
       "5     45\n",
       "4     44\n",
       "9     43\n",
       "7     41\n",
       "2     39\n",
       "11    37\n",
       "6     36\n",
       "8     27\n",
       "Name: RECEIVED_month, dtype: int64"
      ]
     },
     "execution_count": 29,
     "metadata": {},
     "output_type": "execute_result"
    }
   ],
   "source": [
    "data['RECEIVED_month'].value_counts()"
   ]
  },
  {
   "cell_type": "code",
   "execution_count": 30,
   "metadata": {
    "colab": {
     "base_uri": "https://localhost:8080/",
     "height": 468
    },
    "id": "Kmh-MrU0ytl1",
    "outputId": "139579e6-7c85-441a-e612-f90adbb77df2"
   },
   "outputs": [
    {
     "data": {
      "text/plain": [
       "<AxesSubplot: xlabel='TREATMENT_month', ylabel='count'>"
      ]
     },
     "execution_count": 30,
     "metadata": {},
     "output_type": "execute_result"
    },
    {
     "data": {
      "image/png": "[encoded data removed]",
      "text/plain": [
       "<Figure size 640x480 with 1 Axes>"
      ]
     },
     "metadata": {},
     "output_type": "display_data"
    }
   ],
   "source": [
    "sns.countplot( data=data, x='TREATMENT_month', hue ='REVIEW_RESULTED_IN_REJECTION')"
   ]
  },
  {
   "cell_type": "code",
   "execution_count": 31,
   "metadata": {
    "colab": {
     "base_uri": "https://localhost:8080/",
     "height": 468
    },
    "id": "itRP0LjIz7T_",
    "outputId": "dfbbe804-87b4-4e05-b383-0a43feadd990"
   },
   "outputs": [
    {
     "data": {
      "text/plain": [
       "<AxesSubplot: xlabel='RECEIVED_month', ylabel='count'>"
      ]
     },
     "execution_count": 31,
     "metadata": {},
     "output_type": "execute_result"
    },
    {
     "data": {
      "image/png": "[encoded data removed]",
      "text/plain": [
       "<Figure size 640x480 with 1 Axes>"
      ]
     },
     "metadata": {},
     "output_type": "display_data"
    }
   ],
   "source": [
    "sns.countplot( data=data, x='RECEIVED_month', hue ='REVIEW_RESULTED_IN_REJECTION')"
   ]
  },
  {
   "cell_type": "code",
   "execution_count": null,
   "metadata": {
    "id": "60o_w5rQ34dU"
   },
   "outputs": [],
   "source": []
  },
  {
   "cell_type": "markdown",
   "metadata": {
    "id": "oBUx0FPR0UgA"
   },
   "source": [
    "#model preparation"
   ]
  },
  {
   "cell_type": "code",
   "execution_count": 32,
   "metadata": {
    "colab": {
     "base_uri": "https://localhost:8080/"
    },
    "id": "qV0EEU5S37fG",
    "outputId": "7296092b-2925-4713-d8e5-868f64aefde9"
   },
   "outputs": [
    {
     "data": {
      "text/plain": [
       "False    0.792\n",
       "True     0.208\n",
       "Name: REVIEW_RESULTED_IN_REJECTION, dtype: float64"
      ]
     },
     "execution_count": 32,
     "metadata": {},
     "output_type": "execute_result"
    }
   ],
   "source": [
    "data['REVIEW_RESULTED_IN_REJECTION'].value_counts(normalize= True)"
   ]
  },
  {
   "cell_type": "code",
   "execution_count": 33,
   "metadata": {
    "colab": {
     "base_uri": "https://localhost:8080/",
     "height": 467
    },
    "id": "w40cZvyf3-r2",
    "outputId": "cb6adfa7-e1fd-429e-94ed-39003bbef4f2"
   },
   "outputs": [
    {
     "data": {
      "text/plain": [
       "<AxesSubplot: xlabel='REVIEW_RESULTED_IN_REJECTION', ylabel='count'>"
      ]
     },
     "execution_count": 33,
     "metadata": {},
     "output_type": "execute_result"
    },
    {
     "data": {
      "image/png": "[encoded data removed]",
      "text/plain": [
       "<Figure size 640x480 with 1 Axes>"
      ]
     },
     "metadata": {},
     "output_type": "display_data"
    }
   ],
   "source": [
    "sns.countplot(data, x= 'REVIEW_RESULTED_IN_REJECTION')"
   ]
  },
  {
   "cell_type": "code",
   "execution_count": 34,
   "metadata": {
    "id": "1k_OT6zi0YOJ"
   },
   "outputs": [],
   "source": [
    "data = pd.get_dummies(data, columns = ['CLAIMS_TYPE', 'REVIEW_REASON'], drop_first= True)"
   ]
  },
  {
   "cell_type": "code",
   "execution_count": 35,
   "metadata": {
    "id": "h5A2LBZ81XXj"
   },
   "outputs": [],
   "source": [
    "data['REVIEW_RESULTED_IN_REJECTION']= LabelEncoder().fit_transform(data['REVIEW_RESULTED_IN_REJECTION'])"
   ]
  },
  {
   "cell_type": "code",
   "execution_count": 36,
   "metadata": {
    "id": "FFXOQpid1tjt"
   },
   "outputs": [],
   "source": [
    "x= data[[ 'AGE', 'INVOICE_AMOUNT',  'CLAIMS_TYPE_Doctor consultation',\n",
    "       'CLAIMS_TYPE_Medical aids','date_difference', 'CLAIMS_TYPE_Prescription',\n",
    "       'REVIEW_REASON_issue from previous review', 'date_difference',\n",
    "       'REVIEW_REASON_referral documentation',\n",
    "       'REVIEW_REASON_undisclosed diagnoses']]\n",
    "y = data['REVIEW_RESULTED_IN_REJECTION']"
   ]
  },
  {
   "cell_type": "code",
   "execution_count": 37,
   "metadata": {
    "id": "TFpbLn4L14kc"
   },
   "outputs": [],
   "source": [
    "x_train ,x_test, y_train, y_test = train_test_split(x , y , test_size= 0.2, random_state = 42, stratify= y)"
   ]
  },
  {
   "cell_type": "code",
   "execution_count": 38,
   "metadata": {
    "id": "nzEGp_g92iZU"
   },
   "outputs": [],
   "source": [
    "over_sample = RandomOverSampler(sampling_strategy= 'minority', random_state = 42)\n",
    "\n",
    "x_sample , y_sample = over_sample.fit_resample(x_train, y_train)"
   ]
  },
  {
   "cell_type": "code",
   "execution_count": 39,
   "metadata": {
    "colab": {
     "base_uri": "https://localhost:8080/"
    },
    "id": "4yB11h9h-lt2",
    "outputId": "a812161a-9fb4-4008-cb0f-eeb6ae332f02"
   },
   "outputs": [
    {
     "data": {
      "text/plain": [
       "(634, 10)"
      ]
     },
     "execution_count": 39,
     "metadata": {},
     "output_type": "execute_result"
    }
   ],
   "source": [
    "x_sample.shape"
   ]
  },
  {
   "cell_type": "code",
   "execution_count": 40,
   "metadata": {
    "colab": {
     "base_uri": "https://localhost:8080/"
    },
    "id": "yW-uAwp7-pl1",
    "outputId": "23759547-9277-43a0-cda0-9bf1ad2330af"
   },
   "outputs": [
    {
     "data": {
      "text/plain": [
       "(634,)"
      ]
     },
     "execution_count": 40,
     "metadata": {},
     "output_type": "execute_result"
    }
   ],
   "source": [
    "y_sample.shape"
   ]
  },
  {
   "cell_type": "code",
   "execution_count": 41,
   "metadata": {
    "colab": {
     "base_uri": "https://localhost:8080/"
    },
    "id": "8jEFdgYRLesX",
    "outputId": "cad5f9a1-2194-474f-f24d-d9f5c5dfad51"
   },
   "outputs": [
    {
     "name": "stdout",
     "output_type": "stream",
     "text": [
      "              precision    recall  f1-score   support\n",
      "\n",
      "           0       0.83      0.92      0.87        79\n",
      "           1       0.50      0.29      0.36        21\n",
      "\n",
      "    accuracy                           0.79       100\n",
      "   macro avg       0.66      0.60      0.62       100\n",
      "weighted avg       0.76      0.79      0.77       100\n",
      "\n"
     ]
    }
   ],
   "source": [
    "model = RandomForestClassifier(random_state = 42, n_estimators = 200)\n",
    "model.fit(x_sample, y_sample)\n",
    "y_pred= model.predict(x_test)\n",
    "\n",
    "print(classification_report(y_test, y_pred))"
   ]
  },
  {
   "cell_type": "code",
   "execution_count": 42,
   "metadata": {
    "colab": {
     "base_uri": "https://localhost:8080/"
    },
    "id": "CAyzhNKJ3H62",
    "outputId": "b479006c-ea80-4e36-8caf-c6c1a0c2c6ab"
   },
   "outputs": [
    {
     "name": "stdout",
     "output_type": "stream",
     "text": [
      "              precision    recall  f1-score   support\n",
      "\n",
      "           0       0.83      0.92      0.87        79\n",
      "           1       0.50      0.29      0.36        21\n",
      "\n",
      "    accuracy                           0.79       100\n",
      "   macro avg       0.66      0.60      0.62       100\n",
      "weighted avg       0.76      0.79      0.77       100\n",
      "\n"
     ]
    }
   ],
   "source": [
    "\n",
    "model = RandomForestClassifier(random_state = 42, n_estimators = 200)\n",
    "model.fit(x_sample, y_sample)\n",
    "y_pred= model.predict(x_test)\n",
    "\n",
    "print(classification_report(y_test, y_pred))"
   ]
  },
  {
   "cell_type": "code",
   "execution_count": 43,
   "metadata": {
    "colab": {
     "base_uri": "https://localhost:8080/"
    },
    "id": "55ZxJ2R43mmL",
    "outputId": "e83cd56d-4f42-4807-c000-4178ca14d864"
   },
   "outputs": [
    {
     "name": "stdout",
     "output_type": "stream",
     "text": [
      "              precision    recall  f1-score   support\n",
      "\n",
      "           0       0.82      0.96      0.88        79\n",
      "           1       0.57      0.19      0.29        21\n",
      "\n",
      "    accuracy                           0.80       100\n",
      "   macro avg       0.69      0.58      0.58       100\n",
      "weighted avg       0.77      0.80      0.76       100\n",
      "\n"
     ]
    }
   ],
   "source": [
    "model = RandomForestClassifier(random_state = 42, n_estimators = 200)\n",
    "model.fit(x_train, y_train)\n",
    "y_pred= model.predict(x_test)\n",
    "\n",
    "print(classification_report(y_test, y_pred))"
   ]
  },
  {
   "cell_type": "code",
   "execution_count": 44,
   "metadata": {
    "colab": {
     "base_uri": "https://localhost:8080/"
    },
    "id": "Q29Rhs-jAM8Q",
    "outputId": "f09829ba-50d1-4e55-a0d6-0958a19a8b2f"
   },
   "outputs": [
    {
     "name": "stdout",
     "output_type": "stream",
     "text": [
      "              precision    recall  f1-score   support\n",
      "\n",
      "           0       0.81      0.94      0.87        79\n",
      "           1       0.44      0.19      0.27        21\n",
      "\n",
      "    accuracy                           0.78       100\n",
      "   macro avg       0.63      0.56      0.57       100\n",
      "weighted avg       0.74      0.78      0.74       100\n",
      "\n"
     ]
    }
   ],
   "source": [
    "from sklearn.ensemble import GradientBoostingClassifier\n",
    "model = GradientBoostingClassifier(random_state = 42, n_estimators= 200, max_depth= 5)\n",
    "model.fit(x_sample, y_sample)\n",
    "y_pred= model.predict(x_test)\n",
    "\n",
    "print(classification_report(y_test, y_pred))"
   ]
  },
  {
   "cell_type": "code",
   "execution_count": 45,
   "metadata": {
    "colab": {
     "base_uri": "https://localhost:8080/",
     "height": 117
    },
    "id": "BfLHMMP-BV0J",
    "outputId": "1f0d7df2-fb3c-4a5d-bb26-1d4236f68595"
   },
   "outputs": [
    {
     "data": {
      "text/html": [
       "<style>#sk-container-id-1 {color: black;}#sk-container-id-1 pre{padding: 0;}#sk-container-id-1 div.sk-toggleable {background-color: white;}#sk-container-id-1 label.sk-toggleable__label {cursor: pointer;display: block;width: 100%;margin-bottom: 0;padding: 0.3em;box-sizing: border-box;text-align: center;}#sk-container-id-1 label.sk-toggleable__label-arrow:before {content: \"▸\";float: left;margin-right: 0.25em;color: #696969;}#sk-container-id-1 label.sk-toggleable__label-arrow:hover:before {color: black;}#sk-container-id-1 div.sk-estimator:hover label.sk-toggleable__label-arrow:before {color: black;}#sk-container-id-1 div.sk-toggleable__content {max-height: 0;max-width: 0;overflow: hidden;text-align: left;background-color: #f0f8ff;}#sk-container-id-1 div.sk-toggleable__content pre {margin: 0.2em;color: black;border-radius: 0.25em;background-color: #f0f8ff;}#sk-container-id-1 input.sk-toggleable__control:checked~div.sk-toggleable__content {max-height: 200px;max-width: 100%;overflow: auto;}#sk-container-id-1 input.sk-toggleable__control:checked~label.sk-toggleable__label-arrow:before {content: \"▾\";}#sk-container-id-1 div.sk-estimator input.sk-toggleable__control:checked~label.sk-toggleable__label {background-color: #d4ebff;}#sk-container-id-1 div.sk-label input.sk-toggleable__control:checked~label.sk-toggleable__label {background-color: #d4ebff;}#sk-container-id-1 input.sk-hidden--visually {border: 0;clip: rect(1px 1px 1px 1px);clip: rect(1px, 1px, 1px, 1px);height: 1px;margin: -1px;overflow: hidden;padding: 0;position: absolute;width: 1px;}#sk-container-id-1 div.sk-estimator {font-family: monospace;background-color: #f0f8ff;border: 1px dotted black;border-radius: 0.25em;box-sizing: border-box;margin-bottom: 0.5em;}#sk-container-id-1 div.sk-estimator:hover {background-color: #d4ebff;}#sk-container-id-1 div.sk-parallel-item::after {content: \"\";width: 100%;border-bottom: 1px solid gray;flex-grow: 1;}#sk-container-id-1 div.sk-label:hover label.sk-toggleable__label {background-color: #d4ebff;}#sk-container-id-1 div.sk-serial::before {content: \"\";position: absolute;border-left: 1px solid gray;box-sizing: border-box;top: 0;bottom: 0;left: 50%;z-index: 0;}#sk-container-id-1 div.sk-serial {display: flex;flex-direction: column;align-items: center;background-color: white;padding-right: 0.2em;padding-left: 0.2em;position: relative;}#sk-container-id-1 div.sk-item {position: relative;z-index: 1;}#sk-container-id-1 div.sk-parallel {display: flex;align-items: stretch;justify-content: center;background-color: white;position: relative;}#sk-container-id-1 div.sk-item::before, #sk-container-id-1 div.sk-parallel-item::before {content: \"\";position: absolute;border-left: 1px solid gray;box-sizing: border-box;top: 0;bottom: 0;left: 50%;z-index: -1;}#sk-container-id-1 div.sk-parallel-item {display: flex;flex-direction: column;z-index: 1;position: relative;background-color: white;}#sk-container-id-1 div.sk-parallel-item:first-child::after {align-self: flex-end;width: 50%;}#sk-container-id-1 div.sk-parallel-item:last-child::after {align-self: flex-start;width: 50%;}#sk-container-id-1 div.sk-parallel-item:only-child::after {width: 0;}#sk-container-id-1 div.sk-dashed-wrapped {border: 1px dashed gray;margin: 0 0.4em 0.5em 0.4em;box-sizing: border-box;padding-bottom: 0.4em;background-color: white;}#sk-container-id-1 div.sk-label label {font-family: monospace;font-weight: bold;display: inline-block;line-height: 1.2em;}#sk-container-id-1 div.sk-label-container {text-align: center;}#sk-container-id-1 div.sk-container {/* jupyter's `normalize.less` sets `[hidden] { display: none; }` but bootstrap.min.css set `[hidden] { display: none !important; }` so we also need the `!important` here to be able to override the default hidden behavior on the sphinx rendered scikit-learn.org. See: https://github.com/scikit-learn/scikit-learn/issues/21755 */display: inline-block !important;position: relative;}#sk-container-id-1 div.sk-text-repr-fallback {display: none;}</style><div id=\"sk-container-id-1\" class=\"sk-top-container\"><div class=\"sk-text-repr-fallback\"><pre>GridSearchCV(cv=5, estimator=GradientBoostingClassifier(),\n",
       "             param_grid={&#x27;learning_rate&#x27;: [0.1, 0.01, 0.001],\n",
       "                         &#x27;max_depth&#x27;: [3, 4, 5], &#x27;n_estimators&#x27;: [100, 200]},\n",
       "             scoring=&#x27;accuracy&#x27;)</pre><b>In a Jupyter environment, please rerun this cell to show the HTML representation or trust the notebook. <br />On GitHub, the HTML representation is unable to render, please try loading this page with nbviewer.org.</b></div><div class=\"sk-container\" hidden><div class=\"sk-item sk-dashed-wrapped\"><div class=\"sk-label-container\"><div class=\"sk-label sk-toggleable\"><input class=\"sk-toggleable__control sk-hidden--visually\" id=\"sk-estimator-id-1\" type=\"checkbox\" ><label for=\"sk-estimator-id-1\" class=\"sk-toggleable__label sk-toggleable__label-arrow\">GridSearchCV</label><div class=\"sk-toggleable__content\"><pre>GridSearchCV(cv=5, estimator=GradientBoostingClassifier(),\n",
       "             param_grid={&#x27;learning_rate&#x27;: [0.1, 0.01, 0.001],\n",
       "                         &#x27;max_depth&#x27;: [3, 4, 5], &#x27;n_estimators&#x27;: [100, 200]},\n",
       "             scoring=&#x27;accuracy&#x27;)</pre></div></div></div><div class=\"sk-parallel\"><div class=\"sk-parallel-item\"><div class=\"sk-item\"><div class=\"sk-label-container\"><div class=\"sk-label sk-toggleable\"><input class=\"sk-toggleable__control sk-hidden--visually\" id=\"sk-estimator-id-2\" type=\"checkbox\" ><label for=\"sk-estimator-id-2\" class=\"sk-toggleable__label sk-toggleable__label-arrow\">estimator: GradientBoostingClassifier</label><div class=\"sk-toggleable__content\"><pre>GradientBoostingClassifier()</pre></div></div></div><div class=\"sk-serial\"><div class=\"sk-item\"><div class=\"sk-estimator sk-toggleable\"><input class=\"sk-toggleable__control sk-hidden--visually\" id=\"sk-estimator-id-3\" type=\"checkbox\" ><label for=\"sk-estimator-id-3\" class=\"sk-toggleable__label sk-toggleable__label-arrow\">GradientBoostingClassifier</label><div class=\"sk-toggleable__content\"><pre>GradientBoostingClassifier()</pre></div></div></div></div></div></div></div></div></div></div>"
      ],
      "text/plain": [
       "GridSearchCV(cv=5, estimator=GradientBoostingClassifier(),\n",
       "             param_grid={'learning_rate': [0.1, 0.01, 0.001],\n",
       "                         'max_depth': [3, 4, 5], 'n_estimators': [100, 200]},\n",
       "             scoring='accuracy')"
      ]
     },
     "execution_count": 45,
     "metadata": {},
     "output_type": "execute_result"
    }
   ],
   "source": [
    "from sklearn.model_selection import GridSearchCV\n",
    "param = {'n_estimators': [100,200], 'learning_rate' : [0.1,0.01,0.001], 'max_depth': [3,4,5]}\n",
    "grid = GridSearchCV( estimator=GradientBoostingClassifier() ,param_grid =param , scoring = 'accuracy', cv =5 )\n",
    "grid.fit(x_sample, y_sample)\n",
    "\n"
   ]
  },
  {
   "cell_type": "code",
   "execution_count": 46,
   "metadata": {
    "colab": {
     "base_uri": "https://localhost:8080/",
     "height": 74
    },
    "id": "2EJqQkniDFTl",
    "outputId": "254b190e-5f81-44d4-a4c3-183300a22eaa"
   },
   "outputs": [
    {
     "data": {
      "text/html": [
       "<style>#sk-container-id-2 {color: black;}#sk-container-id-2 pre{padding: 0;}#sk-container-id-2 div.sk-toggleable {background-color: white;}#sk-container-id-2 label.sk-toggleable__label {cursor: pointer;display: block;width: 100%;margin-bottom: 0;padding: 0.3em;box-sizing: border-box;text-align: center;}#sk-container-id-2 label.sk-toggleable__label-arrow:before {content: \"▸\";float: left;margin-right: 0.25em;color: #696969;}#sk-container-id-2 label.sk-toggleable__label-arrow:hover:before {color: black;}#sk-container-id-2 div.sk-estimator:hover label.sk-toggleable__label-arrow:before {color: black;}#sk-container-id-2 div.sk-toggleable__content {max-height: 0;max-width: 0;overflow: hidden;text-align: left;background-color: #f0f8ff;}#sk-container-id-2 div.sk-toggleable__content pre {margin: 0.2em;color: black;border-radius: 0.25em;background-color: #f0f8ff;}#sk-container-id-2 input.sk-toggleable__control:checked~div.sk-toggleable__content {max-height: 200px;max-width: 100%;overflow: auto;}#sk-container-id-2 input.sk-toggleable__control:checked~label.sk-toggleable__label-arrow:before {content: \"▾\";}#sk-container-id-2 div.sk-estimator input.sk-toggleable__control:checked~label.sk-toggleable__label {background-color: #d4ebff;}#sk-container-id-2 div.sk-label input.sk-toggleable__control:checked~label.sk-toggleable__label {background-color: #d4ebff;}#sk-container-id-2 input.sk-hidden--visually {border: 0;clip: rect(1px 1px 1px 1px);clip: rect(1px, 1px, 1px, 1px);height: 1px;margin: -1px;overflow: hidden;padding: 0;position: absolute;width: 1px;}#sk-container-id-2 div.sk-estimator {font-family: monospace;background-color: #f0f8ff;border: 1px dotted black;border-radius: 0.25em;box-sizing: border-box;margin-bottom: 0.5em;}#sk-container-id-2 div.sk-estimator:hover {background-color: #d4ebff;}#sk-container-id-2 div.sk-parallel-item::after {content: \"\";width: 100%;border-bottom: 1px solid gray;flex-grow: 1;}#sk-container-id-2 div.sk-label:hover label.sk-toggleable__label {background-color: #d4ebff;}#sk-container-id-2 div.sk-serial::before {content: \"\";position: absolute;border-left: 1px solid gray;box-sizing: border-box;top: 0;bottom: 0;left: 50%;z-index: 0;}#sk-container-id-2 div.sk-serial {display: flex;flex-direction: column;align-items: center;background-color: white;padding-right: 0.2em;padding-left: 0.2em;position: relative;}#sk-container-id-2 div.sk-item {position: relative;z-index: 1;}#sk-container-id-2 div.sk-parallel {display: flex;align-items: stretch;justify-content: center;background-color: white;position: relative;}#sk-container-id-2 div.sk-item::before, #sk-container-id-2 div.sk-parallel-item::before {content: \"\";position: absolute;border-left: 1px solid gray;box-sizing: border-box;top: 0;bottom: 0;left: 50%;z-index: -1;}#sk-container-id-2 div.sk-parallel-item {display: flex;flex-direction: column;z-index: 1;position: relative;background-color: white;}#sk-container-id-2 div.sk-parallel-item:first-child::after {align-self: flex-end;width: 50%;}#sk-container-id-2 div.sk-parallel-item:last-child::after {align-self: flex-start;width: 50%;}#sk-container-id-2 div.sk-parallel-item:only-child::after {width: 0;}#sk-container-id-2 div.sk-dashed-wrapped {border: 1px dashed gray;margin: 0 0.4em 0.5em 0.4em;box-sizing: border-box;padding-bottom: 0.4em;background-color: white;}#sk-container-id-2 div.sk-label label {font-family: monospace;font-weight: bold;display: inline-block;line-height: 1.2em;}#sk-container-id-2 div.sk-label-container {text-align: center;}#sk-container-id-2 div.sk-container {/* jupyter's `normalize.less` sets `[hidden] { display: none; }` but bootstrap.min.css set `[hidden] { display: none !important; }` so we also need the `!important` here to be able to override the default hidden behavior on the sphinx rendered scikit-learn.org. See: https://github.com/scikit-learn/scikit-learn/issues/21755 */display: inline-block !important;position: relative;}#sk-container-id-2 div.sk-text-repr-fallback {display: none;}</style><div id=\"sk-container-id-2\" class=\"sk-top-container\"><div class=\"sk-text-repr-fallback\"><pre>GradientBoostingClassifier(max_depth=5, n_estimators=200)</pre><b>In a Jupyter environment, please rerun this cell to show the HTML representation or trust the notebook. <br />On GitHub, the HTML representation is unable to render, please try loading this page with nbviewer.org.</b></div><div class=\"sk-container\" hidden><div class=\"sk-item\"><div class=\"sk-estimator sk-toggleable\"><input class=\"sk-toggleable__control sk-hidden--visually\" id=\"sk-estimator-id-4\" type=\"checkbox\" checked><label for=\"sk-estimator-id-4\" class=\"sk-toggleable__label sk-toggleable__label-arrow\">GradientBoostingClassifier</label><div class=\"sk-toggleable__content\"><pre>GradientBoostingClassifier(max_depth=5, n_estimators=200)</pre></div></div></div></div></div>"
      ],
      "text/plain": [
       "GradientBoostingClassifier(max_depth=5, n_estimators=200)"
      ]
     },
     "execution_count": 46,
     "metadata": {},
     "output_type": "execute_result"
    }
   ],
   "source": [
    "grid.best_estimator_"
   ]
  },
  {
   "cell_type": "code",
   "execution_count": 47,
   "metadata": {
    "colab": {
     "base_uri": "https://localhost:8080/"
    },
    "id": "Kyp-WKHB3tII",
    "outputId": "105ca7dd-612f-4c31-db17-3ee3bf1381fd"
   },
   "outputs": [
    {
     "name": "stdout",
     "output_type": "stream",
     "text": [
      "              precision    recall  f1-score   support\n",
      "\n",
      "           0       0.79      1.00      0.88        79\n",
      "           1       0.00      0.00      0.00        21\n",
      "\n",
      "    accuracy                           0.79       100\n",
      "   macro avg       0.40      0.50      0.44       100\n",
      "weighted avg       0.62      0.79      0.70       100\n",
      "\n"
     ]
    },
    {
     "name": "stderr",
     "output_type": "stream",
     "text": [
      "C:\\Users\\hayth\\anaconda3\\lib\\site-packages\\sklearn\\metrics\\_classification.py:1469: UndefinedMetricWarning: Precision and F-score are ill-defined and being set to 0.0 in labels with no predicted samples. Use `zero_division` parameter to control this behavior.\n",
      "  _warn_prf(average, modifier, msg_start, len(result))\n",
      "C:\\Users\\hayth\\anaconda3\\lib\\site-packages\\sklearn\\metrics\\_classification.py:1469: UndefinedMetricWarning: Precision and F-score are ill-defined and being set to 0.0 in labels with no predicted samples. Use `zero_division` parameter to control this behavior.\n",
      "  _warn_prf(average, modifier, msg_start, len(result))\n",
      "C:\\Users\\hayth\\anaconda3\\lib\\site-packages\\sklearn\\metrics\\_classification.py:1469: UndefinedMetricWarning: Precision and F-score are ill-defined and being set to 0.0 in labels with no predicted samples. Use `zero_division` parameter to control this behavior.\n",
      "  _warn_prf(average, modifier, msg_start, len(result))\n"
     ]
    }
   ],
   "source": [
    "model = LogisticRegression()\n",
    "model.fit(x_train, y_train)\n",
    "y_pred= model.predict(x_test)\n",
    "\n",
    "print(classification_report(y_test, y_pred))"
   ]
  },
  {
   "cell_type": "code",
   "execution_count": null,
   "metadata": {},
   "outputs": [],
   "source": []
  }
 ],
 "metadata": {
  "colab": {
   "provenance": []
  },
  "kernelspec": {
   "display_name": "Python 3 (ipykernel)",
   "language": "python",
   "name": "python3"
  },
  "language_info": {
   "codemirror_mode": {
    "name": "ipython",
    "version": 3
   },
   "file_extension": ".py",
   "mimetype": "text/x-python",
   "name": "python",
   "nbconvert_exporter": "python",
   "pygments_lexer": "ipython3",
   "version": "3.10.13"
  }
 },
 "nbformat": 4,
 "nbformat_minor": 1
}
